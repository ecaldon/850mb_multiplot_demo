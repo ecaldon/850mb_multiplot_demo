{
 "cells": [
  {
   "cell_type": "markdown",
   "id": "3a9e93e3-ffab-4f97-b1eb-01048856d286",
   "metadata": {},
   "source": [
    "# Creating an 850mb multi-panel plot\n",
    "\n",
    "This notebook will walk you through creating an easily customizable multi-panel 850mb plot with RAP 850mb winds and isotherms, Multi-Radar Multi-Sensor (MRMS) products and LMA points plotted.\n",
    "\n",
    "**Created by: Ezekiel Caldon (SUNY Oswego) as part of the Lake-Effect Electrification (NSF-LEE) Project, funded by the National Science Foundation, grant number 2212177**\n",
    "\n",
    "**Parts of code used and modified with permission from Dr. Eric Bruning (Texas Tech), Dr. Vanna Chmielewski (NSSL) & Dr. Jake Mulholland (SUNY Albany)**"
   ]
  },
  {
   "cell_type": "markdown",
   "id": "38ea7fe4-811b-4c55-8b6d-34f2a93c0d79",
   "metadata": {},
   "source": [
    "## Import packages and map features and configure color maps...\n",
    "\n",
    "<span style=\"color: red;\">*Make sure to install the associated conda environment and use it when running this notebook.*</span>"
   ]
  },
  {
   "cell_type": "code",
   "execution_count": 1,
   "id": "02df6f5f-fdd7-4527-8c1b-0103978e2479",
   "metadata": {},
   "outputs": [],
   "source": [
    "%matplotlib inline\n",
    "import numpy as np\n",
    "import pandas as pd\n",
    "import cartopy.crs as ccrs\n",
    "import cartopy.feature as cfeature\n",
    "import matplotlib.pyplot as plt\n",
    "import matplotlib.colors as mcolors\n",
    "from matplotlib.colors import BoundaryNorm, ListedColormap\n",
    "import matplotlib.gridspec as gridspec\n",
    "import glob\n",
    "import datetime as dt\n",
    "from metpy.plots import USCOUNTIES\n",
    "import os\n",
    "import pickle\n",
    "import boto3\n",
    "from botocore import UNSIGNED\n",
    "from botocore.config import Config\n",
    "import xarray as xr\n",
    "import shutil\n",
    "import gzip\n",
    "import cfgrib\n",
    "import warnings\n",
    "import requests\n",
    "import cmweather\n",
    "\n",
    "warnings.simplefilter(action='ignore', category=FutureWarning)\n",
    "states_provinces = cfeature.NaturalEarthFeature(\n",
    "    category='cultural',\n",
    "    name='admin_1_states_provinces_lines',\n",
    "    scale='110m',\n",
    "    facecolor='none',linewidth=5)\n",
    "s3=boto3.client('s3', config=Config(signature_version=UNSIGNED))\n",
    "\n",
    "# Gives an additional option for ZDR color map\n",
    "colors1 = plt.cm.binary_r(np.linspace(0.,0.8,33))\n",
    "colors2= plt.cm.gist_ncar(np.linspace(0.,1,100))\n",
    "colors = np.vstack((colors1, colors2[10:121]))\n",
    "zdrcolors = mcolors.LinearSegmentedColormap.from_list('my_colormap', colors)"
   ]
  },
  {
   "cell_type": "markdown",
   "id": "0d0a67d4-8f7e-465b-bdf9-92bf0d301f6d",
   "metadata": {},
   "source": [
    "## Customize your plot... "
   ]
  },
  {
   "cell_type": "markdown",
   "id": "239bc45f-c1cf-4a26-82df-e61dae097c19",
   "metadata": {},
   "source": [
    "### Specify the geographical area, times, titles, of your subplots, and customize the number of columns and rows and the save location for the figure... "
   ]
  },
  {
   "cell_type": "code",
   "execution_count": null,
   "id": "f9ebf0d2-ff50-448c-a2b6-577203e6fd33",
   "metadata": {},
   "outputs": [],
   "source": [
    "data_area = [46, -80, 42, -74] # North lat, West lon, South lat, East lon to plot in all subplots\n",
    "times = [dt.datetime(2022,11,17,8,0), # Time for each subplot. This will be the midpoint for any LMA datasets used.\n",
    "         dt.datetime(2022,11,17,12,15), # The closest MRMS file to the time will be plotted.\n",
    "         dt.datetime(2022,11,18,9,17), \n",
    "         dt.datetime(2022,11,18,15,50),\n",
    "         dt.datetime(2022,11,18,22,0),\n",
    "         dt.datetime(2022,11,18,23,0),\n",
    "         dt.datetime(2022,11,19,1,0),\n",
    "         dt.datetime(2022,11,19,9,0),\n",
    "         dt.datetime(2022,11,19,20,0)]\n",
    "titles=['Event 1', 'Event 1', 'Event 2', 'Event 2', 'IOP2', 'IOP2', 'IOP2', 'Event 3', 'Event 3'] # Title for each subplot. The time for the subplot is automatically added after this title.\n",
    "num_col = 3 # Number of columns for subplot cells\n",
    "num_rows = 3 # Number of rows for subplot cells\n",
    "# Directory to save the finished figure to, make sure there's a slash at the end!\n",
    "show_dpi = 100 \n",
    "save_dpi = 500\n",
    "save_fig = False # Toggle saving the figure. Saves time if debugging since drawing 500 dpi figure takes ~2 minutes\n",
    "save_dir = '/Users/zeke/oswego/research_projects/lee/Code/850mb_plots/figures/'"
   ]
  },
  {
   "cell_type": "markdown",
   "id": "04695792-0eda-442d-8cf9-45c4cbafe1d1",
   "metadata": {},
   "source": [
    "### Toggle the Multi-Radar Multi-Sensor (MRMS) layer, and specify fields, color maps and more..."
   ]
  },
  {
   "cell_type": "markdown",
   "id": "9b8ddb0f-1dcc-4bdc-a498-5a869404e0da",
   "metadata": {},
   "source": [
    "Enable the MRMS layer to display data from NSSL's [Multi-Radar Multi-Sensor database](https://mrms.nssl.noaa.gov). MRMS files will download automatically from AWS S3 into a directory named `mrms`. This directory will be automatically created in the directory your notebook is in, if it doesn't exist already.\n",
    "\n",
    "There are over 200 different fields that can be plotted using the MRMS database, [this directory in the AWS S3 bucket shows all of the options.](https://noaa-mrms-pds.s3.amazonaws.com/index.html#CONUS/) Copy the name of the directory without the slash in the `fields` list to utilize the desired field.\n",
    "\n",
    "[Guidance for choosing a colormap from cmweather,](https://cmweather.readthedocs.io/en/latest/api.html) which has been imported, and will likely have the most useful colormaps, including color-blind friendly options.\n",
    "\n",
    "[Guidance for choosing a colormap from MatPlotLib;](https://arm-doe.github.io/pyart/examples/plotting/plot_choose_a_colormap.html) this is verbose and doesn't contain many colormaps useful for MRMS products, but may be helpful if you don't find what you're looking for in cmweather.\n",
    "\n",
    "`zdrcolors` has been initialized in the import statements as a good *Z<sub>DR</sub>* colormap, just add it without `String` markers to utilize."
   ]
  },
  {
   "cell_type": "code",
   "execution_count": null,
   "id": "af5d65d9-af8c-40b0-8d1f-8a255a902b7a",
   "metadata": {},
   "outputs": [],
   "source": [
    "mrms_on = True # Enable MRMS layer?\n",
    "\n",
    "fields = ['MergedBaseReflectivity_00.50', 'MergedBaseReflectivity_00.50', 'MergedBaseReflectivity_00.50', 'MergedBaseReflectivity_00.50', 'MergedBaseReflectivity_00.50', 'MergedBaseReflectivity_00.50', 'MergedBaseReflectivity_00.50', 'MergedBaseReflectivity_00.50', 'MergedBaseReflectivity_00.50']\n",
    "\n",
    "multi_color_bar = False # If you are plotting different  fields in each pane, toggle to True\n",
    "mrms_single_axis_title = 'Reflectivity (dBZ)' # If each field is the same, put the axis title here.\n",
    "radar_multi_axis_titles = ['dBZ', '', '', '', '', '', '', '', ''] # Put axis titles in this list. If you have multi_color_bar = False, leave '' placeholders for the number of subplots you have.\n",
    "multi_colorbar_orientation = 'vertical'\n",
    "\n",
    "mrms_cmap = ['HomeyerRainbow', 'HomeyerRainbow', 'HomeyerRainbow', 'HomeyerRainbow', 'HomeyerRainbow', 'HomeyerRainbow', 'HomeyerRainbow', 'HomeyerRainbow', 'HomeyerRainbow'] # List of color maps to be used in each subplot\n",
    "value_min = 10 # Minimum value for each pane's color map\n",
    "value_max = 50 # Maximum value for each pane's color map\n",
    "gate_filter_num = 12 # Gate filter\n",
    "\n",
    "time_range = 12 # Configure the time range (in minutes) that the program will search for radar images after the configured times."
   ]
  },
  {
   "cell_type": "markdown",
   "id": "ac6daa62-6b4e-4582-8918-91755e859a3b",
   "metadata": {},
   "source": [
    "### Toggle the RAP analysis layer and specify the file directory, line and wind barb options..."
   ]
  },
  {
   "cell_type": "markdown",
   "id": "66cadb77-355b-479b-adba-ec8482271c17",
   "metadata": {},
   "source": [
    "Enable the RAP layer to display 850mb isotherms and wind barbs on your plot.\n",
    "\n",
    "RAP files must be downloaded manually due to the slow nature of the data access website gumming up the program. Download them into a directory on your machine and copy that directory's path to the `RAP_dir` variable. [RAP files can be downloaded here.](https://www.ncei.noaa.gov/data/rapid-refresh/access/rap-130-13km/analysis/)\n",
    "\n",
    "The code will `pickle` the RAP data and store it as a `.pkl` file in a directory called `cache` that will be automatically created if it does not exist already. This measure helps save time when playing around with other customizations to the plot since the RAP `.grib` files take a while to process.\n",
    "\n",
    "[For help specifying colors for MatPlotLib, go here](https://matplotlib.org/stable/users/explain/colors/colors.html#sphx-glr-users-explain-colors-colors-py)."
   ]
  },
  {
   "cell_type": "code",
   "execution_count": null,
   "id": "e940bcba-b4c3-4bff-8b91-951e8e9a8e87",
   "metadata": {},
   "outputs": [],
   "source": [
    "# RAP\n",
    "rap_on = True # Enable rap layer?\n",
    "\n",
    "RAP_dir = '/Users/zeke/oswego/research_projects/lee/Code/850mb_plots/notebooks/rap/' # Directory with RAP files, make sure there's a slash at the end\n",
    "\n",
    "therm_line_width = 1.5 # Width of isotherm lines\n",
    "isotherm_color = 'r' # Isotherm color.\n",
    "inline_tf = True # Toggle inline isotherm labels\n",
    "inline_space = 1 # Isotherm inline whitespace for labels\n",
    "levels = np.arange(-30,30,2) # Specify isotherm levels (min, max, step)\n",
    "\n",
    "wind_barb_spacing = 0.2 # Spacing of barbs on wind barbs\n",
    "wind_barb_size = 6 # Size of wind barbs"
   ]
  },
  {
   "cell_type": "markdown",
   "id": "7a5dcfa5-f89f-483b-aeaf-2111228d9cdf",
   "metadata": {},
   "source": [
    "### Toggle the LMA layer and specify the file directory, filter and plotting options..."
   ]
  },
  {
   "cell_type": "markdown",
   "id": "bb685cfe-1f38-4cd8-a3c7-a7bcb8adf9de",
   "metadata": {},
   "source": [
    "LMA `.h5` flash files are downloaded automatically to a directory named `lma` that will be automatically created in the directory that your notebook is located, if it doesn't exist already. [If you have trouble downloading with the code, the `.h5` files can be downloaded here.](https://data.nssl.noaa.gov/thredds/catalog/WRDD/OKLMA/deployments/flashsort_6/h5_files/catalog.html)\n",
    "\n",
    "[For help specifying colors for MatPlotLib, go here](https://matplotlib.org/stable/users/explain/colors/colors.html#sphx-glr-users-explain-colors-colors-py).\n",
    "\n",
    "[For a list of point markers for MatPlotLib, go here](https://matplotlib.org/stable/api/markers_api.html#module-matplotlib.markers)"
   ]
  },
  {
   "cell_type": "code",
   "execution_count": null,
   "id": "22048be1-0a30-4f31-8f06-802afee0d679",
   "metadata": {},
   "outputs": [],
   "source": [
    "lma_on = True # Enable lma layer?\n",
    "\n",
    "min_events_per_flash = 10 # Minimum number of sources per flash\n",
    "min_stations = 6 # more stations = more confident it's a good solution\n",
    "max_chi = 1 # lower chi^2 = more confident it's a good solution\n",
    "tbuffer = 60*60 # range for LMA data after specified time in seconds\n",
    "\n",
    "lma_point_color = 'fuchsia' # LMA point color.\n",
    "lma_point_size = 50 # LMA point size\n",
    "lma_point_marker = '^' # LMA point marker."
   ]
  },
  {
   "cell_type": "markdown",
   "id": "000db74a-1d6f-4657-90fb-04a672af01ad",
   "metadata": {},
   "source": [
    "## Setting things up and declaring functions for the plot"
   ]
  },
  {
   "cell_type": "code",
   "execution_count": null,
   "id": "6f14beae-88ce-4f19-816f-51f02b1203a0",
   "metadata": {
    "jupyter": {
     "source_hidden": true
    }
   },
   "outputs": [],
   "source": [
    "projection = ccrs.PlateCarree()\n",
    "display = []\n",
    "base_wid = 6\n",
    "base_hei = 4\n",
    "fig_wid = num_col * base_wid\n",
    "fig_hei = num_rows * base_hei\n",
    "bounds = np.arange(value_min, value_max, 5)"
   ]
  },
  {
   "cell_type": "code",
   "execution_count": null,
   "id": "a91aeefa-ed45-4489-9034-e6649b0294ca",
   "metadata": {
    "jupyter": {
     "source_hidden": true
    }
   },
   "outputs": [],
   "source": [
    "def plot_mrms(ax, time, cmap, num):\n",
    "    if mrms_on == True:\n",
    "        save_filename = f\"mrms/{fields[num]}{time.strftime('%Y%m%d%H')}.grib2.gz\"\n",
    "        unzip_filename = save_filename[:-3]\n",
    "        if (os.path.exists(unzip_filename) == False):\n",
    "            # Downloads closest MRMS file from the noaa-mrms-pds AWS S3 bucket to a\n",
    "            # local directory named \"mrms\"\n",
    "            os.makedirs(\"mrms\", exist_ok=True)\n",
    "            paginator = s3.get_paginator('list_objects_v2')\n",
    "            page_iterator = paginator.paginate(Bucket='noaa-mrms-pds', Prefix=f'CONUS/{fields[num]}/{time.strftime('%Y%m%d')}')\n",
    "            selected_file = ''\n",
    "            min_time_difference = dt.timedelta(minutes=(time_range/2))\n",
    "            for page in page_iterator:\n",
    "                for obj in page.get('Contents', []):\n",
    "                    current_dt = dt.datetime.strptime((obj['Key'][-24:-9]), \"%Y%m%d-%H%M%S\")\n",
    "                    if ((current_dt - time).days < 0):\n",
    "                        current_time_difference = time - current_dt\n",
    "                    else:\n",
    "                        current_time_difference = current_dt - time\n",
    "                    if (current_time_difference < min_time_difference):\n",
    "                        selected_file = obj['Key']\n",
    "                        min_time_difference = current_time_difference\n",
    "            s3.download_file('noaa-mrms-pds', selected_file, save_filename)\n",
    "            \n",
    "            # Unzips the file and deletes the .zip file\n",
    "            with gzip.open(save_filename, 'rb') as gz_file:\n",
    "                with open(unzip_filename, 'wb') as output_file:\n",
    "                    shutil.copyfileobj(gz_file, output_file)\n",
    "            os.remove(save_filename)\n",
    "            \n",
    "        # Plots the data\n",
    "        ds = cfgrib.open_dataset(unzip_filename)\n",
    "        ds = ds.metpy.parse_cf()\n",
    "        radar_values = list(ds.data_vars.values())[0]\n",
    "        filtered_radar_values = radar_values.where(radar_values > gate_filter_num)\n",
    "        cbar_kwargs = {'orientation': 'horizontal'}\n",
    "        if (multi_color_bar):\n",
    "            im = filtered_radar_values.plot(ax=ax, transform=ccrs.PlateCarree(), vmin=value_min, vmax=value_max, cmap=cmap, add_colorbar=multi_color_bar, cbar_kwargs=cbar_kwargs)\n",
    "        else:\n",
    "            im = filtered_radar_values.plot(ax=ax, transform=ccrs.PlateCarree(), \n",
    "                                       vmin=value_min, vmax=value_max, cmap=cmap, add_colorbar=multi_color_bar)\n",
    "        return im"
   ]
  },
  {
   "cell_type": "code",
   "execution_count": null,
   "id": "2bb1de3a-2927-4dfa-a938-f1c0b52940a3",
   "metadata": {
    "lines_to_next_cell": 1
   },
   "outputs": [],
   "source": [
    "def plot_rap_data(time, ax):\n",
    "    if rap_on == True:\n",
    "        data = get_cached_rap_data(time)\n",
    "        CS = ax.contour(data[\"lon_t\"], data[\"lat_t\"], data[\"T85\"], levels,\n",
    "                        colors=isotherm_color, linewidths=therm_line_width,\n",
    "                        transform=ccrs.PlateCarree())\n",
    "        ax.clabel(CS, fontsize=12, fmt=\"%1.0f\", inline=inline_tf, inline_spacing=inline_space)\n",
    "        ax.barbs(data[\"lon_u\"][::10, ::10], data[\"lat_u\"][::10, ::10],\n",
    "                 data[\"U85\"][::10, ::10], data[\"V85\"][::10, ::10],\n",
    "                 transform=ccrs.PlateCarree(),\n",
    "                 sizes=dict(emptybarb=0.1, spacing=wind_barb_spacing, height=0.35),\n",
    "                 length=wind_barb_size, flip_barb=False, zorder=1)\n",
    "\n",
    "def get_cached_rap_data(time):\n",
    "    pickle_path = f\"cache/rap_{time:%Y%m%d%H}-{data_area[0]}{360+data_area[1]}{data_area[2]}{360+data_area[3]}.pkl\"\n",
    "    lat_max, lon_min, lat_min, lon_max = data_area\n",
    "    lon_min = lon_min+360\n",
    "    lon_max = lon_max+360\n",
    "    \n",
    "    if os.path.exists(pickle_path):\n",
    "        with open(pickle_path, \"rb\") as f:\n",
    "            return pickle.load(f)\n",
    "    \n",
    "    filename = glob.glob(f\"{RAP_dir}r*{time.strftime('%Y%m%d_%H')}00_000.grb2\")\n",
    "    if not filename:\n",
    "        filename = glob.glob(f\"{RAP_dir}r*{(time + dt.timedelta(hours=1)).strftime('%Y%m%d_%H')}00_000.grb2\")\n",
    "    if not filename:\n",
    "        raise FileNotFoundError(\"RAP file not found for time \" + str(time))\n",
    "    \n",
    "    ds = xr.open_dataset(filename[0], engine='cfgrib', filter_by_keys={'typeOfLevel':'isobaricInhPa', 'level': 850}, backend_kwargs={\"indexpath\": \"\"})\n",
    "   \n",
    "    level = 850\n",
    "    T85 = ds['t'].sel() - 273.15\n",
    "    U85 = ds['u'].sel()\n",
    "    V85 = ds['v'].sel()\n",
    "    \n",
    "    lat = ds['latitude']\n",
    "    lon = ds['longitude']\n",
    "\n",
    "    mask = (lat >= lat_min) & (lat <= lat_max) & (lon >= lon_min) & (lon <= lon_max)\n",
    "    \n",
    "    T85_masked = T85.where(mask, np.nan).values\n",
    "    U85_masked = U85.where(mask, np.nan).values\n",
    "    V85_masked = V85.where(mask, np.nan).values  \n",
    "\n",
    "    result = {\n",
    "        \"T85\": T85_masked,\n",
    "        \"U85\": U85_masked,\n",
    "        \"V85\": V85_masked,\n",
    "        \"lat_u\": lat.values,\n",
    "        \"lon_u\": lon.values,\n",
    "        \"lat_t\": lat.values,\n",
    "        \"lon_t\": lon.values\n",
    "    }\n",
    "\n",
    "    os.makedirs('cache', exist_ok=True)\n",
    "    with open(pickle_path, \"wb\") as f:\n",
    "        pickle.dump(result, f)\n",
    "        \n",
    "    return result  "
   ]
  },
  {
   "cell_type": "code",
   "execution_count": null,
   "id": "1e9b30ae-5ebe-4001-a86c-e072ec894353",
   "metadata": {
    "editable": true,
    "jupyter": {
     "source_hidden": true
    },
    "slideshow": {
     "slide_type": ""
    },
    "tags": []
   },
   "outputs": [],
   "source": [
    "def plot_LMA_flash_data(start):\n",
    "    if lma_on == True:\n",
    "        filenames = []\n",
    "        flashes = []\n",
    "        flash_event_time = []\n",
    "        flash_events = []\n",
    "        selection_event = []\n",
    "        lma_lon = []\n",
    "        lma_lat = []\n",
    "        os.makedirs('lma', exist_ok=True)\n",
    "        filename = 'lma/LYLOUT_{}000_0600.dat.flash.h5'.format(start.strftime('%y%m%d_%H%M')[:-1])\n",
    "        filenames.append(filename)\n",
    "        if (glob.glob(filename) == []):\n",
    "            url = 'https://data.nssl.noaa.gov/thredds/fileServer/WRDD/OKLMA/deployments/flashsort_6/h5_files/{}/{}'.format(start.strftime('%Y/%m/%d'),filename[4:])\n",
    "            response = requests.get(url)\n",
    "            with open(filename, \"wb\") as file:\n",
    "                file.write(response.content)\n",
    "            print(f'{filename} downloaded successfully.')\n",
    "        if (tbuffer > 600):\n",
    "            for i in range(int(tbuffer/600)):\n",
    "                filename = 'lma/LYLOUT_{}000_0600.dat.flash.h5'.format((start+dt.timedelta(seconds=(i*600))).strftime('%y%m%d_%H%M')[:-1])\n",
    "                filenames.append(filename)\n",
    "                if (glob.glob(filename) == []):\n",
    "                    url = 'https://data.nssl.noaa.gov/thredds/fileServer/WRDD/OKLMA/deployments/flashsort_6/h5_files/{}/{}'.format((start+(dt.timedelta(seconds=(i*600)))).strftime('%Y/%m/%d'),filename[4:])\n",
    "                    response = requests.get(url)\n",
    "                    with open(filename, \"wb\") as file:\n",
    "                        file.write(response.content)\n",
    "                    print(f'{filename} downloaded successfully.')\n",
    "        filename = 'lma/LYLOUT_{}000_0600.dat.flash.h5'.format((start+dt.timedelta(seconds=tbuffer)).strftime('%y%m%d_%H%M')[:-1])\n",
    "        if filename not in filenames:\n",
    "            filenames.append(filename)\n",
    "            if (glob.glob(filename) == []):\n",
    "                    url = 'https://data.nssl.noaa.gov/thredds/fileServer/WRDD/OKLMA/deployments/flashsort_6/h5_files/{}/{}'.format((start+dt.timedelta(seconds=tbuffer)).strftime('%Y/%m/%d'),filename[4:])\n",
    "                    response = requests.get(url)\n",
    "                    with open(filename, \"wb\") as file:\n",
    "                        file.write(response.content)\n",
    "                    print(f'{filename} downloaded successfully.')\n",
    "        flashes = pd.DataFrame()\n",
    "        flash_events = pd.DataFrame()\n",
    "        for filename in filenames:\n",
    "            timeobj = dt.datetime.strptime(filename.split('/')[-1], \n",
    "                                           \"LYLOUT_%y%m%d_%H%M%S_0600.dat.flash.h5\")\n",
    "            # This is the flash table\n",
    "            flashes2 = pd.read_hdf(filename,'flashes/LMA_{}00_600'.format(\n",
    "                                            timeobj.strftime('%y%m%d_%H%M')))\n",
    "            # This is the event (VHF source) table\n",
    "            flash_events2 = pd.read_hdf(filename,'events/LMA_{}00_600'.format(\n",
    "                                            timeobj.strftime('%y%m%d_%H%M')))\n",
    "            # Flash ID's are not unique between files. This writes new ones \n",
    "            # in the second file, if it exists\n",
    "            if flashes.shape[0]>0:\n",
    "                flashes2.flash_id      = flashes2['flash_id']     +flashes.flash_id.max()+1\n",
    "                flash_events2.flash_id = flash_events2['flash_id']+flashes.flash_id.max()+1\n",
    "            else:\n",
    "                pass\n",
    "            flashes      = pd.concat([flashes,flashes2])\n",
    "            flash_events = pd.concat([flash_events,flash_events2])         \n",
    "            \n",
    "        # Make a series of datetime objects for each event\n",
    "        flash_event_time = np.array([dt.datetime(*start.timetuple()[:3])+dt.timedelta(seconds = j) for j in flash_events.time])\n",
    "        try:\n",
    "            # Select all the sources meeting the criteria set above\n",
    "            selection_event = (flash_event_time>=start)&(flash_event_time < start+dt.timedelta(seconds=tbuffer))&(flash_events.chi2<=max_chi)&(flash_events.stations>=min_stations)\n",
    "            \n",
    "            lma_lon = (flash_events.lon[selection_event].values)\n",
    "            \n",
    "            lma_lat = (flash_events.lat[selection_event].values)\n",
    "        \n",
    "        except AttributeError:\n",
    "            pass\n",
    "        try:\n",
    "            # Only those in flashes and meeting criteria set above\n",
    "            if flash_events.empty == False:\n",
    "                for flash in flashes.flash_id[flashes.n_points>=min_events_per_flash]:\n",
    "                    if (any ((flash_events.flash_id[selection_event]==flash) == True)):\n",
    "                        plt.scatter(lma_lon[(flash_events.flash_id[selection_event]==flash)][0],\n",
    "                                    lma_lat[(flash_events.flash_id[selection_event]==flash)][0],\n",
    "                                    color=lma_point_color,s=lma_point_size,marker=lma_point_marker)\n",
    "        except NameError:\n",
    "            pass"
   ]
  },
  {
   "cell_type": "markdown",
   "id": "ed8c2793-c3ab-40b4-acb5-3ba019f9cb10",
   "metadata": {},
   "source": [
    "## Plot code"
   ]
  },
  {
   "cell_type": "markdown",
   "id": "8a681cf6-c5ca-4f6a-b9c8-a34d197ec7d6",
   "metadata": {},
   "source": [
    "*This part of the code may give `ECCODES error`s and `UserWarning`s in addition to notifying you of the download of LMA files. These are all normal messages and are not cause for concern.* \n",
    "\n",
    "It's just `cfgrib` whining about the RAP files which are admittedly not fun to work with, but it is processing and plotting them correctly."
   ]
  },
  {
   "cell_type": "code",
   "execution_count": null,
   "id": "4413f25a-c8cb-4fd5-ae76-9cc3d09e3e50",
   "metadata": {
    "editable": true,
    "jupyter": {
     "source_hidden": true
    },
    "scrolled": true,
    "slideshow": {
     "slide_type": ""
    },
    "tags": []
   },
   "outputs": [],
   "source": [
    "fig = plt.figure(figsize = (fig_wid,fig_hei), layout='constrained', dpi=show_dpi)\n",
    "ax = []\n",
    "\n",
    "gs0 = gridspec.GridSpec(1, 2, figure=fig, width_ratios=[0.98, 0.02])\n",
    "gs1 = gridspec.GridSpecFromSubplotSpec(num_rows, num_col, gs0[0])\n",
    "\n",
    "for i in range(num_col*num_rows):\n",
    "    # Define colormap\n",
    "    cmap = plt.get_cmap(mrms_cmap[i])\n",
    "    norm = BoundaryNorm(bounds, ncolors=cmap.N)\n",
    "    \n",
    "    # Add white for masked (low dBZ) values\n",
    "    colors = cmap(np.linspace(0, 1, cmap.N))\n",
    "    white = np.array([[1, 1, 1, 1]])  # RGBA white\n",
    "    newcolors = np.vstack((white, colors))  # Add white at start\n",
    "    new_cmap = ListedColormap(newcolors)\n",
    "    \n",
    "    # Shift norm to match new color list\n",
    "    norm = BoundaryNorm(np.insert(bounds, 0, 0), new_cmap.N)\n",
    "    \n",
    "    ax_proj = ccrs.PlateCarree()\n",
    "    ax.append(fig.add_subplot(gs1[i], projection=ax_proj))\n",
    "    im = plot_mrms(ax[i], times[i], new_cmap, i)\n",
    "    \n",
    "    ax[i].set_title(titles[i] + ' {} UTC'.format(times[i].strftime('%d %b %Y %H:%M:%S')))\n",
    "    # Add gridlines\n",
    "    gl = ax[i].gridlines(crs=ccrs.PlateCarree(),draw_labels=True,linewidth=1,color=\"gray\",alpha=0.3,linestyle=\"--\",)\n",
    "    gl.right_labels = False\n",
    "    gl.top_labels = False\n",
    "    \n",
    "    ax[i].set_extent([data_area[1], data_area[3], data_area[2], data_area[0]], ccrs.PlateCarree())\n",
    "    \n",
    "    ax[i].add_feature(USCOUNTIES.with_scale('500k'), linewidth=0.25)\n",
    "    ax[i].add_feature(cfeature.LAKES, facecolor='None',edgecolor='darkblue', linewidth=1)\n",
    "    ax[i].add_feature(cfeature.COASTLINE,edgecolor='black',linewidth=1)\n",
    "    ax[i].add_feature(cfeature.BORDERS,edgecolor='black',linewidth=1)\n",
    "    ax[i].add_feature(states_provinces, edgecolor='black',linewidth=0.25)\n",
    "    ax[i].add_feature(cfeature.STATES, edgecolor='black', linewidth=0.25)\n",
    "    \n",
    "    plot_rap_data(times[i], ax[i])\n",
    "    \n",
    "    plot_LMA_flash_data(times[i]-dt.timedelta(seconds = (tbuffer/2)))\n",
    "    \n",
    "    char = chr(97+i)\n",
    "    \n",
    "    ax[i].text((data_area[1]-.3),(data_area[0]+.2),'(' + char + ')', fontsize=12)\n",
    "\n",
    "\n",
    "if ((mrms_on == True) & (multi_color_bar == False)):\n",
    "    cbar_ax = fig.add_subplot(gs0[:, -1])\n",
    "    fig.colorbar(im, cax=cbar_ax, ticks=bounds, label=mrms_single_axis_title)\n",
    "# display[(num_col*num_rows)-1].plot_colorbar(field=radar_fields[0], orientation='vertical', cax=cbar_ax, fig=fig)\n",
    "\n",
    "# plt.savefig(save_dir + '850mbplot' + times[0].strftime('%y%m%d%H') + '.png', dpi=500, facecolor='white')\n",
    "if (save_fig):\n",
    "    plt.savefig(save_dir + '850mbplot' + times[0].strftime('%y%m%d%H') + '.png', dpi=save_dpi, facecolor='white')\n",
    "    print(\"Figure saved. Will show in a few moments...\")\n",
    "\n",
    "plt.show()"
   ]
  }
 ],
 "metadata": {
  "jupytext": {
   "formats": "ipynb,py:percent"
  },
  "kernelspec": {
   "display_name": "Python [conda env:850mb_multiplot] *",
   "language": "python",
   "name": "conda-env-850mb_multiplot-py"
  },
  "language_info": {
   "codemirror_mode": {
    "name": "ipython",
    "version": 3
   },
   "file_extension": ".py",
   "mimetype": "text/x-python",
   "name": "python",
   "nbconvert_exporter": "python",
   "pygments_lexer": "ipython3",
   "version": "3.13.5"
  }
 },
 "nbformat": 4,
 "nbformat_minor": 5
}
